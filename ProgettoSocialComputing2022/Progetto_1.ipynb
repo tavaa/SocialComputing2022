{
 "cells": [
  {
   "cell_type": "markdown",
   "metadata": {},
   "source": [
    "# Primo progetto laboratorio Social Computing\n",
    "### *Costruzione di un sottografo della rete di twitter, utlizzando i moduli di python tweepy e networkx.*\n",
    "\n",
    "* Tavano Matteo mat. 154255\n",
    "* Alessandro Dalla Riva mat. 151881\n",
    "* Propedo Demien mat. 153260\n",
    "* Scozzai Samuele mat. 154175"
   ]
  },
  {
   "cell_type": "markdown",
   "metadata": {},
   "source": [
    "Importo le **librerie**:"
   ]
  },
  {
   "cell_type": "code",
   "execution_count": 164,
   "metadata": {},
   "outputs": [],
   "source": [
    "import os\n",
    "import json\n",
    "import pprint\n",
    "import tweepy\n",
    "import random\n",
    "import networkx as nx\n",
    "import pandas as pd\n",
    "import numpy as np\n",
    "from functools import reduce\n",
    "import matplotlib.pyplot as plt\n",
    "from scipy import stats\n",
    "from networkx.readwrite import json_graph\n",
    "import inspect\n",
    "from collections import *\n",
    "from networkx.algorithms.approximation import clique\n",
    "from pyvis.network import Network"
   ]
  },
  {
   "cell_type": "markdown",
   "metadata": {},
   "source": [
    "Importo le **chiavi** dall'account developer di twitter, utili per il download dei dati provenienti dal social network:"
   ]
  },
  {
   "cell_type": "code",
   "execution_count": 165,
   "metadata": {},
   "outputs": [],
   "source": [
    "api_key = \"ZwRUucJU77qVjVxQgqAhPmaaX\"\n",
    "api_secret = \"QzCFP6OTu9uNGj9YhQuYL5lr27EbV8Np38uwllFi6D8GE8PtsE\"\n",
    "access_token = \"1588461193928364032-bMRfOj9Xq9nJArAPMmR32naFtcNcNC\"\n",
    "access_secret = \"xHjg6oTGM28KGH0dYDCXYu5MktvqkQ5wjHjWwIIyr4qq9\"\n",
    "bearer_token = \"AAAAAAAAAAAAAAAAAAAAAL63iwEAAAAAdwdMMdk3pjwk9LCqVp1o2mp5AOM%3DkYs8l09vh6814psR071MTFyhEwD471Axfjheue7prFqoADyxur\""
   ]
  },
  {
   "cell_type": "markdown",
   "metadata": {},
   "source": [
    "Faccio la **serializzazione di JSON**. \n",
    "Al fine di ottenere in locale i dati su cui lavoreremo, sarà necessario definire due funzioni per il salvataggio dei dati in locale e la lettura di questi ultimi:"
   ]
  },
  {
   "cell_type": "code",
   "execution_count": 166,
   "metadata": {},
   "outputs": [],
   "source": [
    "data_folder = \"data\"\n",
    "\n",
    "# Salvataggio dati in locale\n",
    "def serialize_json(folder, filename, data):\n",
    "    # Se la cartella non esiste la creo\n",
    "    if not os.path.exists(folder):\n",
    "        os.makedirs(folder, exist_ok=True)\n",
    "    with open(f\"{folder}/{filename}\", 'w', encoding='utf-8') as f:\n",
    "        json.dump(data, f, ensure_ascii=False, indent=4)\n",
    "        f.close()\n",
    "    print(f\"Data serialized to path: {folder}/{filename}\")\n",
    "\n",
    "# Lettura file JSON da locale\n",
    "def read_json(path):\n",
    "    if os.path.exists(path):\n",
    "        with open(path, \"r\", encoding=\"utf8\") as file:\n",
    "            data = json.load(file)\n",
    "        print(f\"Data read from path: {path}\")\n",
    "        return data\n",
    "    else:\n",
    "        print(f\"No data found at path: {path}\")\n",
    "        return {}"
   ]
  },
  {
   "cell_type": "markdown",
   "metadata": {},
   "source": [
    "## 1. Scarichiamo i dati dell'account del profilo di *KevinRoitero*"
   ]
  },
  {
   "cell_type": "markdown",
   "metadata": {},
   "source": [
    "Come primo passo,  avvalendomi dell'API di twitter *scarico i dati inerenti al profilo* interessato, annettendo ID, username e descrizione di ogni suo follower.\n",
    "Alla fine di questo processo, i dati vengono *serializzati in locale*."
   ]
  },
  {
   "cell_type": "code",
   "execution_count": 167,
   "metadata": {},
   "outputs": [
    {
     "name": "stdout",
     "output_type": "stream",
     "text": [
      "Looking for KevinRoitero followers.\n",
      "Found 135 followers for KevinRoitero\n",
      "Data serialized to path: data/followers.json\n"
     ]
    }
   ],
   "source": [
    "client = tweepy.Client(bearer_token = bearer_token, wait_on_rate_limit=True) # wait_on_rate_limit attende quando sforo i limiti dell'endpoint\n",
    "\n",
    "user_to_find = [\"KevinRoitero\"]\n",
    "all_followers = {}\n",
    "\n",
    "for current_user in user_to_find:\n",
    "    # Cerco l'utente per recuperare i suoi dati\n",
    "    response = client.get_user(username=current_user)\n",
    "    user_id = response.data.id\n",
    "    username = response.data.username\n",
    "    all_followers[username] = []\n",
    "\n",
    "\n",
    "    print(f\"Looking for {current_user} followers.\")\n",
    "    # Uso paginator perchè non so a priori quanti follower abbiano \n",
    "    for current_user_followers in tweepy.Paginator(client.get_users_followers, id = user_id, user_fields = [\"description\"], max_results = 1000):\n",
    "        # Non tutti gli oggetti sono serializzabili direttamente come JSON. User non lo è, serve un parsing\n",
    "        this_user_followers = []\n",
    "        for follower in current_user_followers.data:\n",
    "            found_follower = {\n",
    "                            \"id\": follower[\"id\"], \n",
    "                            \"name\": follower[\"name\"], \n",
    "                            \"username\": follower[\"username\"],\n",
    "                            \"description\": follower[\"description\"],\n",
    "                        }\n",
    "            this_user_followers.append(found_follower)\n",
    "        all_followers[username] += this_user_followers\n",
    "        print(f\"Found {len(all_followers[username])} followers for {username}\")\n",
    "\n",
    "\n",
    "serialize_json(data_folder, \"followers.json\", all_followers)\n"
   ]
  },
  {
   "cell_type": "markdown",
   "metadata": {},
   "source": [
    "## 2/3. Trovare dettagli dei follower di @KevinRoitero"
   ]
  },
  {
   "cell_type": "markdown",
   "metadata": {},
   "source": [
    "Una volta ottenuta la serializzazione in locale dei dati dei follower acquisiti, facciamo un ulteriore passo per un'analisi più approfondia di ciascun follower, in particolare:\n",
    "* **Download follower** di *KevinRoitero*, con attributi di default, descrizione, metriche pubbliche e \"protected\"\n",
    "* **Download del numero di tweet** pubblicati nell'ultima settimana\n",
    "* **Serializzazione di ogni account** con nessuna protezione dell'account, considerando al massimo 1000 followers"
   ]
  },
  {
   "cell_type": "code",
   "execution_count": null,
   "metadata": {},
   "outputs": [],
   "source": [
    "client = tweepy.Client(bearer_token, wait_on_rate_limit=True)\n",
    "user = client.get_user(username=\"KevinRoitero\")\n",
    "\n",
    "all_user_follower = client.get_users_followers(\n",
    "    user.data.id, user_fields=[\"description\", \"public_metrics\",\"protected\"], max_results=150)\n",
    "\n",
    "all_followers = {}\n",
    "for follower in all_user_follower.data:\n",
    "    query = \"from:\"+follower[\"username\"]\n",
    "    response = client.search_recent_tweets(query)\n",
    "    recent_tweets_count = response.meta[\"result_count\"]\n",
    "    \n",
    "    follower_fields = {\n",
    "        \"name\": follower[\"name\"],\n",
    "        \"username\": follower[\"username\"],\n",
    "        \"description\": follower[\"description\"],\n",
    "        \"public_metrics\": follower[\"public_metrics\"],\n",
    "        \"protected\": follower[\"protected\"],\n",
    "        \"recent_tweets_count\": recent_tweets_count\n",
    "    }\n",
    "\n",
    "    followers_of_follower = client.get_users_followers(follower[\"id\"], user_fields=[\"description\", \"public_metrics\",\"protected\"], max_results=1000)\n",
    "    followers_of_follower_count=follower[\"public_metrics\"][\"followers_count\"]\n",
    "    print(\"i follower di \"+str(follower[\"username\"])+\" sono \"+str(followers_of_follower_count))\n",
    "    all_followers_of_follower={}\n",
    "    print(\"Protetto?\"+str(follower[\"protected\"]))\n",
    "\n",
    "    if followers_of_follower_count>0 and follower[\"protected\"]==False:\n",
    "            for follower_of_follower in followers_of_follower.data:\n",
    "                follower_of_follower_fields = {\n",
    "                    \"name\": follower_of_follower[\"name\"],\n",
    "                    \"username\": follower_of_follower[\"username\"],\n",
    "                    \"description\": follower_of_follower[\"description\"],\n",
    "                    \"public_metrics\": follower_of_follower[\"public_metrics\"],\n",
    "                    \"protected\": follower_of_follower[\"protected\"]\n",
    "                }\n",
    "                all_followers_of_follower[follower_of_follower[\"id\"]]=(follower_of_follower_fields)\n",
    "            follower_fields[\"followers\"]=all_followers_of_follower\n",
    "   \n",
    "    all_followers[follower[\"id\"]] = follower_fields\n",
    "\n",
    "serialize_json(data_folder, \"followers_di_KR.json\", all_followers)"
   ]
  },
  {
   "cell_type": "markdown",
   "metadata": {},
   "source": [
    "## 4. NetworkX"
   ]
  },
  {
   "cell_type": "markdown",
   "metadata": {},
   "source": [
    "Utilizzo la *libreria NetworkX* per costruire la **rete sociale diretta**:"
   ]
  },
  {
   "cell_type": "markdown",
   "metadata": {},
   "source": [
    "* Creo il grafo diretto dove i **nodi** sono *KevinRoitero* ed i suoi rispettivi follower. L'id del nodo corrisponde all'id dell'profilo utente e ogni nodo ha i seguenti attributi: username, descrizione e numero di follower di quel profilo"
   ]
  },
  {
   "cell_type": "code",
   "execution_count": null,
   "metadata": {},
   "outputs": [],
   "source": [
    "directed_graph = nx.DiGraph()\n",
    "directed_graph.add_node(\"KevinRoitero\")\n",
    "\n",
    "for follower in all_user_follower.data:\n",
    "    directed_graph.add_node(follower[\"id\"], username=follower[\"username\"], description=follower[\"description\"], follower_count=follower[\"public_metrics\"][\"followers_count\"])\n",
    "    directed_graph.nodes(data = True)\n",
    "\n",
    "# Stampo i nodi del grafo diretto\n",
    "print(\"Questi sono i nodi:\\n\",directed_graph.nodes())"
   ]
  },
  {
   "cell_type": "markdown",
   "metadata": {},
   "source": [
    "* Utilizzo il file JSON prodotto al punto 3 e aggiungo al grafo un **arco** per ciascuna coppia di profili per i quali esiste un arelazione di following"
   ]
  },
  {
   "cell_type": "code",
   "execution_count": null,
   "metadata": {},
   "outputs": [],
   "source": [
    "with open('data/followers.json') as json_file:\n",
    "    data = json.load(json_file)\n",
    "\n",
    "with open('data/followers_di_KR.json') as json_file:\n",
    "    data2 = json.load(json_file)\n",
    "\n",
    "# Creo gli archi tra Kevin Roitero e i suoi followers\n",
    "i=0     \n",
    "while i < len(all_followers[username]):\n",
    "    id = data['KevinRoitero'][i]['id']\n",
    "    directed_graph.add_edge(\"KevinRoitero\",id)\n",
    "    i += 1\n",
    " \n",
    " \n",
    "# Creo gli archi tra i followers di Kevin Roitero e i loro followers\n",
    "i=0\n",
    "j=0\n",
    "\n",
    "while i < len(all_followers[username]):    \n",
    "    id = data['KevinRoitero'][i]['id']\n",
    "    \n",
    "    follower_count_id = data2[str(id)]['public_metrics']['followers_count']\n",
    "    \n",
    "\n",
    "    while j < min(follower_count_id,1000):\n",
    "        follower_id = list(data2[str(id)]['followers'].keys())[j]\n",
    "        directed_graph.add_edge(id,follower_id)\n",
    "        j += 1\n",
    "       \n",
    "    i += 1\n",
    "\n",
    "# Stampo i dati relativi agli archi \n",
    "print(\"\\nQuesti sono gli archi:\\n\",directed_graph.edges())"
   ]
  },
  {
   "cell_type": "markdown",
   "metadata": {},
   "source": [
    "## 5. Grafo indiretto e preferential attachment"
   ]
  },
  {
   "cell_type": "markdown",
   "metadata": {},
   "source": [
    "In questa sezione, oltre a rendere **indiretto** il grafo di prima, utilizzeremo il metodo del **preferential attachment** al fine di ottenere un grafo con il doppio dei nodi e per ognuno di essi, ci saranno 2 archi uscenti."
   ]
  },
  {
   "cell_type": "markdown",
   "metadata": {},
   "source": [
    "* Trasformo il grafo diretto in **indiretto**"
   ]
  },
  {
   "cell_type": "code",
   "execution_count": 178,
   "metadata": {},
   "outputs": [],
   "source": [
    "undirected_graph1 = directed_graph.to_undirected()"
   ]
  },
  {
   "cell_type": "markdown",
   "metadata": {},
   "source": [
    "* Uso il metodo del **preferential attachment**"
   ]
  },
  {
   "cell_type": "code",
   "execution_count": null,
   "metadata": {},
   "outputs": [],
   "source": [
    "undirected_graph1 = directed_graph.to_undirected()\n",
    "initial_number_nodes = len(undirected_graph1.nodes)\n",
    "undirected_graph = nx.barabasi_albert_graph(2*initial_number_nodes, 2, initial_graph=undirected_graph1)\n",
    "nx.draw(undirected_graph, node_size = 1)"
   ]
  },
  {
   "cell_type": "markdown",
   "metadata": {},
   "source": [
    "## 6. Visualizzazione dei due grafi"
   ]
  },
  {
   "cell_type": "markdown",
   "metadata": {},
   "source": [
    "In questo punto, ci occupiamo di ottenere due visualizzazioni, per ognuno dei due grafi, una **interattiva** utilizzando *PyVis* e una **statica** utilizzando *NetworkX*:"
   ]
  },
  {
   "cell_type": "markdown",
   "metadata": {},
   "source": [
    "* **Visualizzazione interattiva** con *PyVis*"
   ]
  },
  {
   "cell_type": "code",
   "execution_count": 179,
   "metadata": {},
   "outputs": [],
   "source": [
    "# Dinamica utilizzando Pvyis per il grafo diretto:\n",
    "nt = Network(\n",
    "    height = \"100%\",\n",
    "    width = \"100%\",\n",
    "    bgcolor = \"#222222\",\n",
    "    font_color = \"white\",\n",
    "    heading = \"Directed graph\"\n",
    ")\n",
    "nt.barnes_hut()\n",
    "nt.from_nx(directed_graph)\n",
    "neighbor_map = nt.get_adj_list()\n",
    "for node in nt.nodes:\n",
    "    node[\"value\"] = len(neighbor_map[node[\"id\"]])\n",
    "    \n",
    "nt.show(\"html/directed_graph.html\")"
   ]
  },
  {
   "cell_type": "code",
   "execution_count": 180,
   "metadata": {},
   "outputs": [],
   "source": [
    "# Dinamica utilizzando Pvyis per il grafo indiretto:\n",
    "nt = Network(\n",
    "    height = \"100%\",\n",
    "    width = \"100%\",\n",
    "    bgcolor = \"#222222\",\n",
    "    font_color = \"white\",\n",
    "    heading = \"Undirected graph\"\n",
    ")\n",
    "nt.barnes_hut()\n",
    "nt.from_nx(undirected_graph)\n",
    "neighbor_map = nt.get_adj_list()\n",
    "for node in nt.nodes:\n",
    "    node[\"value\"] = len(neighbor_map[node[\"id\"]])\n",
    "    \n",
    "nt.show(\"html/undirected_graph.html\")"
   ]
  },
  {
   "cell_type": "markdown",
   "metadata": {},
   "source": [
    "* **Visualizzazione statica** con *NetworkX*"
   ]
  },
  {
   "cell_type": "code",
   "execution_count": null,
   "metadata": {},
   "outputs": [],
   "source": [
    "# statica usando networkx:\n",
    "# nel undirected uso il grado come peso totale nella rap. grafica\n",
    "# nel directed, invece uso solamente il in_degree\n",
    "d = dict(directed_graph.in_degree)\n",
    "d2= dict(undirected_graph.degree)\n",
    "\n",
    "print(\"Visualizzazione statica del primo grafo:\\n\")\n",
    "nx.draw(directed_graph, cmap = plt.get_cmap('jet'), node_size=[v * 10 for v in d.values()])\n",
    "\n",
    "print(\"\\nVisualizzazione statica del secondo grafo:\\n\")\n",
    "nx.draw(undirected_graph, node_size=[v * 10 for v in d2.values()])\n",
    "\n",
    "# utilizziamo il layout di Fruchterman Reingold\n",
    "nx.draw_networkx(directed_graph, pos=nx.spring_layout(directed_graph), node_size= 1, with_labels=False )\n",
    "nx.draw_networkx(undirected_graph, pos=nx.spring_layout(undirected_graph), node_size = 100)"
   ]
  },
  {
   "cell_type": "markdown",
   "metadata": {},
   "source": [
    "## 7. Componente fortemente connessa"
   ]
  },
  {
   "cell_type": "markdown",
   "metadata": {},
   "source": [
    "Per ognuno dei due grafici, troviamo la **più grande componente fortemente connessa**. La evidenziamo con il colore rosso e il resto dei nodi li coloriamo di nero."
   ]
  },
  {
   "cell_type": "code",
   "execution_count": null,
   "metadata": {},
   "outputs": [],
   "source": [
    "# la funzione clique.max_clique() non è implementata per i grafi diretti, quindi uso la sua versione indiretta\n",
    "max_cl = clique.max_clique(undirected_graph1)\n",
    "clique_subgraph = undirected_graph1.subgraph(max_cl)\n",
    "\n",
    "#ciclo for per ogni nodo, se appartiene alla cricca max-> rosso else nero\n",
    "color_map = []\n",
    "print(clique_subgraph.nodes())\n",
    "\n",
    "for node in undirected_graph1:\n",
    "    if node in clique_subgraph.nodes:\n",
    "        color_map.append('red')\n",
    "    else: \n",
    "        color_map.append('black') \n",
    "             \n",
    "nx.draw(undirected_graph1, node_color=color_map, with_labels=False)\n",
    "plt.show()\n",
    "plt.close()"
   ]
  },
  {
   "cell_type": "code",
   "execution_count": null,
   "metadata": {},
   "outputs": [],
   "source": [
    "max_cl2 = clique.max_clique(undirected_graph)\n",
    "clique_subgraph2 = undirected_graph.subgraph(max_cl2)\n",
    "\n",
    "#ciclo for per ogni nodo, se appartiene alla cricca max-> rosso else nero\n",
    "color_map = []\n",
    "print(clique_subgraph2.nodes())\n",
    "\n",
    "for node in undirected_graph:\n",
    "    if node in clique_subgraph2.nodes:\n",
    "        color_map.append('red')\n",
    "    else: \n",
    "        color_map.append('black') \n",
    "             \n",
    "nx.draw(undirected_graph, node_color=color_map, with_labels=False)\n",
    "plt.show()\n",
    "plt.close()"
   ]
  },
  {
   "cell_type": "markdown",
   "metadata": {},
   "source": [
    "## 8. Distanze"
   ]
  },
  {
   "cell_type": "markdown",
   "metadata": {},
   "source": [
    "Calcolo le **distanze** sui due grafi, utilizzando le opportune funzioni di *NetworkX*:"
   ]
  },
  {
   "cell_type": "markdown",
   "metadata": {},
   "source": [
    "* Centro"
   ]
  },
  {
   "cell_type": "code",
   "execution_count": null,
   "metadata": {},
   "outputs": [],
   "source": [
    "# Per il grafo diretto non è possibile calcolare il centro, quindi lo calcolo con la sua versione indiretta\n",
    "\n",
    "# Grafo 1\n",
    "center = nx.center(undirected_graph1)\n",
    "print(center)\n",
    "\n",
    "# Grafo 2\n",
    "center2 = nx.center(undirected_graph)\n",
    "print(center2)"
   ]
  },
  {
   "cell_type": "markdown",
   "metadata": {},
   "source": [
    "* Raggio"
   ]
  },
  {
   "cell_type": "code",
   "execution_count": 182,
   "metadata": {},
   "outputs": [
    {
     "name": "stdout",
     "output_type": "stream",
     "text": [
      "2\n",
      "4\n"
     ]
    }
   ],
   "source": [
    "# Grafo 1\n",
    "radius = nx.radius(undirected_graph1)\n",
    "print(radius)\n",
    "\n",
    "# Grafo 2\n",
    "radius2 = nx.radius(undirected_graph)\n",
    "print(radius2)"
   ]
  },
  {
   "cell_type": "markdown",
   "metadata": {},
   "source": [
    "* Distanza Media"
   ]
  },
  {
   "cell_type": "code",
   "execution_count": 185,
   "metadata": {},
   "outputs": [
    {
     "name": "stdout",
     "output_type": "stream",
     "text": [
      "2.6016395731215485\n",
      "2.806182980755515\n"
     ]
    }
   ],
   "source": [
    "# Grafo 1\n",
    "average_distance = nx.average_shortest_path_length(undirected_graph1)\n",
    "print(average_distance)\n",
    "\n",
    "# Grafo 2\n",
    "average_distance2 = nx.average_shortest_path_length(undirected_graph)\n",
    "print(average_distance2)"
   ]
  },
  {
   "cell_type": "markdown",
   "metadata": {},
   "source": [
    "* Distanza Massima"
   ]
  },
  {
   "cell_type": "code",
   "execution_count": null,
   "metadata": {},
   "outputs": [],
   "source": [
    "# Grafo 1\n",
    "max_distance = nx.diameter(undirected_graph1)\n",
    "print(max_distance)\n",
    "\n",
    "# Grafo 2\n",
    "max_distance2 = nx.diameter(undirected_graph)\n",
    "print(max_distance2)"
   ]
  },
  {
   "cell_type": "markdown",
   "metadata": {},
   "source": [
    "## 9. Misure di centralità"
   ]
  },
  {
   "cell_type": "markdown",
   "metadata": {},
   "source": [
    "Calcolo le seguenti **misure di centralità** sui due grafi:"
   ]
  },
  {
   "cell_type": "markdown",
   "metadata": {},
   "source": [
    "* Betweenness centrality"
   ]
  },
  {
   "cell_type": "code",
   "execution_count": null,
   "metadata": {},
   "outputs": [],
   "source": [
    "# Grafo 1\n",
    "betweenness_centrality = nx.betweenness_centrality(directed_graph)\n",
    "print(betweenness_centrality)\n",
    "\n",
    "# Grafo 2\n",
    "betweenness_centrality2 = nx.betweenness_centrality(undirected_graph)\n",
    "print(betweenness_centrality2)"
   ]
  },
  {
   "cell_type": "markdown",
   "metadata": {},
   "source": [
    "* Closeness centrality"
   ]
  },
  {
   "cell_type": "code",
   "execution_count": null,
   "metadata": {},
   "outputs": [],
   "source": [
    "# Grafo 1\n",
    "closeness_centrality = nx.closeness_centrality(directed_graph)\n",
    "print(closeness_centrality)\n",
    "\n",
    "# Grafo 2\n",
    "closeness_centrality2 = nx.closeness_centrality(undirected_graph)\n",
    "print(closeness_centrality2)"
   ]
  },
  {
   "cell_type": "markdown",
   "metadata": {},
   "source": [
    "* Degree centrality"
   ]
  },
  {
   "cell_type": "code",
   "execution_count": null,
   "metadata": {},
   "outputs": [],
   "source": [
    "# Grafo 1\n",
    "degree_centrality = nx.degree_centrality(directed_graph)\n",
    "print(degree_centrality)\n",
    "\n",
    "# Grafo 2\n",
    "degree_centrality2 = nx.degree_centrality(undirected_graph)\n",
    "print(degree_centrality2)"
   ]
  },
  {
   "cell_type": "markdown",
   "metadata": {},
   "source": [
    "* In-degree centrality"
   ]
  },
  {
   "cell_type": "code",
   "execution_count": null,
   "metadata": {},
   "outputs": [],
   "source": [
    "# Grafo 1\n",
    "in_degree_centrality = nx.in_degree_centrality(directed_graph)\n",
    "print(in_degree_centrality)\n",
    "\n",
    "# Grafo 2\n",
    "# Per i grafi indiretti non è possibile calcolare l'in-degree centrality"
   ]
  },
  {
   "cell_type": "markdown",
   "metadata": {},
   "source": [
    "* Out-degree centrality"
   ]
  },
  {
   "cell_type": "code",
   "execution_count": null,
   "metadata": {},
   "outputs": [],
   "source": [
    "# Grafo 1\n",
    "out_degree_centrality = nx.out_degree_centrality(directed_graph)\n",
    "print(out_degree_centrality)\n",
    "\n",
    "# Grafo 2\n",
    "# Per i grafi indiretti non è possibile calcolare l'out-degree centrality"
   ]
  },
  {
   "cell_type": "markdown",
   "metadata": {},
   "source": [
    "* Page Rank"
   ]
  },
  {
   "cell_type": "code",
   "execution_count": null,
   "metadata": {},
   "outputs": [],
   "source": [
    "# Grafo 1\n",
    "page_rank = nx.pagerank(directed_graph)\n",
    "print(page_rank)\n",
    "\n",
    "# Grafo 2\n",
    "page_rank2 = nx.pagerank(undirected_graph)\n",
    "print(page_rank2)"
   ]
  },
  {
   "cell_type": "markdown",
   "metadata": {},
   "source": [
    "* HITS"
   ]
  },
  {
   "cell_type": "code",
   "execution_count": null,
   "metadata": {},
   "outputs": [],
   "source": [
    "# Grafo 1\n",
    "hits = nx.hits(directed_graph)\n",
    "print(hits)\n",
    "\n",
    "# Grafo 2\n",
    "hits2 = nx.hits(undirected_graph)\n",
    "print(hits2)"
   ]
  },
  {
   "cell_type": "markdown",
   "metadata": {},
   "source": [
    "## 10. Coefficienti per stimare la \"small-world-ness\""
   ]
  },
  {
   "cell_type": "markdown",
   "metadata": {},
   "source": [
    "Calcolo il **coefficiente omega** e il **coefficiente sigma** dei due grafi:\n",
    "1. se omega ha un *valore ≈ 0*, significa che ha le caratteristiche dello small-world\n",
    "2. se sigma ha un *valore > 1*, il grafo è classificato come small-world "
   ]
  },
  {
   "cell_type": "markdown",
   "metadata": {},
   "source": [
    "* Coefficiente omega:"
   ]
  },
  {
   "cell_type": "code",
   "execution_count": null,
   "metadata": {},
   "outputs": [],
   "source": [
    "# Grafo 1\n",
    "omega = nx.omega(undirected_graph1)\n",
    "print(omega)\n",
    "\n",
    "# Grafo 2\n",
    "omega2 = nx.omega(undirected_graph)\n",
    "print(omega2)"
   ]
  },
  {
   "cell_type": "markdown",
   "metadata": {},
   "source": [
    "* Coefficiente sigma:"
   ]
  },
  {
   "cell_type": "code",
   "execution_count": null,
   "metadata": {},
   "outputs": [],
   "source": [
    "# Grafo 1\n",
    "sigma = nx.sigma(undirected_graph1)\n",
    "print(sigma)\n",
    "\n",
    "# Grafo 2\n",
    "sigma2 = nx.sigma(undirected_graph)\n",
    "print(sigma2)"
   ]
  }
 ],
 "metadata": {
  "kernelspec": {
   "display_name": "Python 3.9.13 ('base')",
   "language": "python",
   "name": "python3"
  },
  "language_info": {
   "codemirror_mode": {
    "name": "ipython",
    "version": 3
   },
   "file_extension": ".py",
   "mimetype": "text/x-python",
   "name": "python",
   "nbconvert_exporter": "python",
   "pygments_lexer": "ipython3",
   "version": "3.9.13"
  },
  "orig_nbformat": 4,
  "vscode": {
   "interpreter": {
    "hash": "c5fcd2ac780f5c074fa71dbf1a67cdeec8fc7f895465768c7546174f8d179b8c"
   }
  }
 },
 "nbformat": 4,
 "nbformat_minor": 2
}
